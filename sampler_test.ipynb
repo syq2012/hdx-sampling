{
 "cells": [
  {
   "cell_type": "code",
   "execution_count": 1,
   "id": "6d03d6b4",
   "metadata": {},
   "outputs": [],
   "source": [
    "import numpy as np\n",
    "from itertools import combinations\n",
    "from numpy import random\n",
    "import math\n",
    "import matplotlib.pyplot as plt\n",
    "from scipy.stats import norm\n",
    "import sample_hdx as hdx"
   ]
  },
  {
   "cell_type": "code",
   "execution_count": 2,
   "id": "843551ab",
   "metadata": {},
   "outputs": [
    {
     "name": "stdout",
     "output_type": "stream",
     "text": [
      "Adj matrix equal for dist 0 True\n",
      "Adj matrix equal for dist 1 True\n",
      "Adj matrix equal for dist 2 True\n",
      "Adj matrix equal for dist 3 True\n",
      "sum E_i is I True\n",
      "E_i^2 = E_i E0 True\n",
      "E_i^2 = E_i E1 True\n",
      "orthogonal E1,E0 True\n",
      "max is 2.906735698698661e-17\n",
      "E_i^2 = E_i E2 True\n",
      "orthogonal E2,E0 True\n",
      "max is 1.1757570226065026e-18\n",
      "orthogonal E2,E1 True\n",
      "max is 5.747717117069821e-17\n",
      "E_i^2 = E_i E3 True\n",
      "orthogonal E3,E0 True\n",
      "max is 2.923903954052178e-18\n",
      "orthogonal E3,E1 True\n",
      "max is 1.9509277714441335e-17\n",
      "orthogonal E3,E2 True\n",
      "max is 3.5388358909926865e-16\n"
     ]
    }
   ],
   "source": [
    "# find idempotent\n",
    "n = 10\n",
    "l = math.comb(n, 3)\n",
    "# res = np.zeros((l, l)) \n",
    "V = hdx.get_coord(n, 3)\n",
    "\n",
    "# count = [math.comb(3, 3 - l) * math.comb(n - 3, l) for l in range(3 + 1)]\n",
    "# print(count)\n",
    "\n",
    "# each row is phi_i(j)\n",
    "spherical_fn =  np.array([hdx.PHI(n, 3, i) for i in range(0, 4)])\n",
    "\n",
    "# p number \n",
    "k_num = [hdx.k_i(n, 3, i) for i in range(0, 4)]\n",
    "# print(k_num)\n",
    "p_num = (spherical_fn * k_num).T\n",
    "# get E_i\n",
    "E =[]\n",
    "\n",
    "idemp_val = hdx.idempotent_vals(n)\n",
    "for i in range(0, 4):\n",
    "    E.append(hdx.cov_mat(V, np.flip(idemp_val[i])))\n",
    "# for i in range(0, 4):\n",
    "#     cur_vales = spherical_fn[i]\n",
    "    \n",
    "# #     cur_eig = eigenval(n, 3, k)\n",
    "# #     print(cur_eig)\n",
    "    \n",
    "# #     print(cur_vales)\n",
    "#     dim = math.comb(n, i) \n",
    "#     if i > 0:\n",
    "#         dim -= math.comb(n, i - 1)\n",
    "    \n",
    "#     cur = cov_mat(V, np.flip(cur_vales)) * dim/l\n",
    "#     E.append(cur)\n",
    "\n",
    "# get A    \n",
    "for i in range(0, 4):\n",
    "#     get A from indempotent \n",
    "    cur_p = p_num[i]\n",
    "    cur_A = sum([cur_p[j] * E[j] for j in range(0, 4)])\n",
    "    \n",
    "#     compute A by hand\n",
    "    test_A = np.zeros((l, l))\n",
    "    for j in range(l):\n",
    "        for k in range(j + 1):\n",
    "            intersect = 3 - sum([v in V[j] for v in V[k]])\n",
    "            if intersect == i:\n",
    "                test_A[j][k] = 1\n",
    "                test_A[k][j] = 1\n",
    "#     print(cur_A)\n",
    "    print('Adj matrix equal for dist ' + str(i), np.all(test_A == np.rint(cur_A)))\n",
    "    \n",
    "# check if E_i are basis \n",
    "print('sum E_i is I', np.all(np.rint(sum(E)) == np.identity(l)))\n",
    "for i in range(0, 4):\n",
    "    cur = E[i]\n",
    "    print('E_i^2 = E_i E' + str(i), np.all(np.rint(cur.dot(cur) - cur) == np.zeros((l, l))))\n",
    "    for j in range(i):\n",
    "        print('orthogonal E' + str(i) + ',E' + str(j), np.all(np.rint(E[j].dot(cur)) == np.zeros((l, l))))\n",
    "        print('max is', np.max(np.abs(E[j].dot(cur))))\n",
    "    "
   ]
  },
  {
   "cell_type": "code",
   "execution_count": 3,
   "id": "dbcf0e1d",
   "metadata": {},
   "outputs": [
    {
     "name": "stdout",
     "output_type": "stream",
     "text": [
      "check we get the correct eigenvalues True 5.551115123125783e-17\n",
      "check we get the correct eigenvalues True 1.7763568394002505e-15\n",
      "check PSD True\n"
     ]
    }
   ],
   "source": [
    "# Combine p number and other values \n",
    "vals = [0, 0, 1/4, 1]\n",
    "cov = hdx.cov_mat(V, vals)\n",
    "\n",
    "eigen_val = p_num * np.flip(np.array(vals))[:, None]\n",
    "# check if we get cov mat from linear combination of Ei\n",
    "\n",
    "total_eig = np.sum(eigen_val, axis = 0)\n",
    "res = sum([total_eig[i] * E[i] for i in range(4)])\n",
    "# res = np.zeros((l, l))\n",
    "# for i in range(0, 4):\n",
    "#     cur_eig = eigen_val[i]\n",
    "#     res += sum([cur_eig[j] * E[j] for j in range(4)])\n",
    "diff = res - cov\n",
    "print('check we get the correct eigenvalues', np.all(np.rint(diff) == np.zeros((l, l))), np.max(np.abs(diff)))\n",
    "\n",
    "# sqrt_eig = np.sqrt(total_eig)\n",
    "sqrt_eig = hdx.sqrt_cov(n, vals)\n",
    "cov_sqrt = sum([sqrt_eig[i] * E[i] for i in range(4)])\n",
    "# print(sqrt_eig)\n",
    "diff2 = cov_sqrt.dot(cov_sqrt) - cov\n",
    "print('check we get the correct eigenvalues', np.all(np.rint(diff2) == np.zeros((l, l))), np.max(np.abs(diff2)))\n",
    "print('check PSD', np.all(np.linalg.cholesky(cov_sqrt.dot(cov_sqrt)) != None))"
   ]
  },
  {
   "cell_type": "code",
   "execution_count": 4,
   "id": "d1876598",
   "metadata": {},
   "outputs": [
    {
     "name": "stdout",
     "output_type": "stream",
     "text": [
      "0.0\n"
     ]
    }
   ],
   "source": [
    "# test sample function get correct covariance matrix\n",
    "# by get each column of the sqrt covariance matrix used by sample_gaussian function\n",
    "# and compare to the sqrt cov matrix from above\n",
    "max_err = []\n",
    "for i in range(1):\n",
    "    cur_gauss = np.zeros(l)\n",
    "    cur_gauss[i] = 1\n",
    "    cur_col = hdx.sample_gaussian(n, vals, cur_gauss) \n",
    "    max_err.append(np.max(np.abs(cur_col - cov_sqrt[i])))\n",
    "print(max(max_err))"
   ]
  }
 ],
 "metadata": {
  "kernelspec": {
   "display_name": "Python 3 (ipykernel)",
   "language": "python",
   "name": "python3"
  },
  "language_info": {
   "codemirror_mode": {
    "name": "ipython",
    "version": 3
   },
   "file_extension": ".py",
   "mimetype": "text/x-python",
   "name": "python",
   "nbconvert_exporter": "python",
   "pygments_lexer": "ipython3",
   "version": "3.12.0"
  }
 },
 "nbformat": 4,
 "nbformat_minor": 5
}
