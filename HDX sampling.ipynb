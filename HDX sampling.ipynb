{
 "cells": [
  {
   "cell_type": "code",
   "execution_count": 1,
   "id": "da5c8c2b",
   "metadata": {},
   "outputs": [],
   "source": [
    "import numpy as np\n",
    "from itertools import combinations\n",
    "from numpy import random\n",
    "import math"
   ]
  },
  {
   "cell_type": "code",
   "execution_count": 21,
   "id": "c2c20469",
   "metadata": {},
   "outputs": [],
   "source": [
    "# return a list of all size k subset of [n]\n",
    "def get_coord(n, k):\n",
    "    temp = [i +1 for i in range(n)]\n",
    "    return list(combinations(temp, k))\n",
    "\n",
    "# generate cov matrix \n",
    "# n is number of vertices \n",
    "# vals[i] is the covariance of S, S' when intersection is of size i (e.g. we should have vals 0, 1, 2, 3)\n",
    "def cov_mat(n, k, vals):\n",
    "    coordinate = get_coord(n, k)\n",
    "    l_c = len(coordinate)\n",
    "    cov_mat = np.zeros((l_c, l_c))\n",
    "    for i in range(l_c):\n",
    "        cov_mat[i][i] = vals[k]\n",
    "        for j in range(i):\n",
    "            size_inter = len(set(coordinate[i]).intersection(coordinate[j]))\n",
    "            cov_mat[i][j] = vals[size_inter]\n",
    "            cov_mat[j][i] = vals[size_inter]\n",
    "    return cov_mat\n",
    "    \n",
    "def check_psd(M):\n",
    "    try:\n",
    "        np.linalg.cholesky(M)\n",
    "        return True\n",
    "    except np.linalg.LinAlgError:\n",
    "            return False\n",
    "\n",
    "def sample_gaussain(mean, M):\n",
    "    return random.multivariate_normal(mean, M)\n",
    "\n",
    "def round(x):\n",
    "    return [c >= 1/2 for c in x]\n",
    "# get adj matrices from sampled triangles\n",
    "# x is the sample, V is the index of subsets, n is the number of vertices \n",
    "# x and V should have length (n choose 3)\n",
    "def get_graph(x, V, n):\n",
    "    res = np.zeros((n, n))\n",
    "    for i in range(len(V)):\n",
    "        if x[i] == 1:\n",
    "            cur = V[i]\n",
    "            for (p, q) in list(combinations(cur, 2)):\n",
    "                res[p - 1][q - 1] = 1\n",
    "                res[q - 1][p - 1] = 1\n",
    "    return res\n",
    "\n",
    "def get_mean_var(vals, n):\n",
    "#     means = vals[-1] * np.ones(n)\n",
    "    # get covariance\n",
    "    vals -= vals[-1] ** 2\n",
    "    return vals"
   ]
  },
  {
   "cell_type": "code",
   "execution_count": 3,
   "id": "978df96d",
   "metadata": {},
   "outputs": [],
   "source": [
    "# test the covariance matrix put right values based on size of intersection\n",
    "def test_cov(M, V, vals, i, j):\n",
    "    print(V[i], V[j])\n",
    "    size_int = len([a for a in V[i] if a in V[j]])\n",
    "    print(M[i][j] == vals[size_int])"
   ]
  },
  {
   "cell_type": "code",
   "execution_count": 4,
   "id": "257a94bb",
   "metadata": {},
   "outputs": [
    {
     "data": {
      "text/plain": [
       "True"
      ]
     },
     "execution_count": 4,
     "metadata": {},
     "output_type": "execute_result"
    }
   ],
   "source": [
    "# set parameter\n",
    "\n",
    "n = 10\n",
    "k = 3\n",
    "p = .5\n",
    "\n",
    "# get list of all size k subsets\n",
    "V = get_coord(n, k)\n",
    "\n",
    "# writedown list of moments vals[i] is E[S,S'] when |S \\cap S'| = i\n",
    "vals = np.array([p**6, p**6, p**5, p**3])\n",
    "\n",
    "means = vals[-1] * np.ones(len(V))\n",
    "# get covariance\n",
    "vals -= vals[-1] ** 2\n",
    "\n",
    "cov = cov_mat(n, k, vals)\n",
    "# check covariance is psd\n",
    "check_psd(cov)"
   ]
  },
  {
   "cell_type": "code",
   "execution_count": 5,
   "id": "8bfa9b4c",
   "metadata": {},
   "outputs": [
    {
     "name": "stdout",
     "output_type": "stream",
     "text": [
      "(1, 2, 3) (1, 2, 4)\n",
      "True\n"
     ]
    }
   ],
   "source": [
    "test_cov(cov, V, vals, 0, 1)"
   ]
  },
  {
   "cell_type": "code",
   "execution_count": 6,
   "id": "d3887f1d",
   "metadata": {},
   "outputs": [],
   "source": [
    "samples = sample_gaussain(means, cov)"
   ]
  },
  {
   "cell_type": "code",
   "execution_count": 7,
   "id": "d7b2527c",
   "metadata": {},
   "outputs": [],
   "source": [
    "adj = get_graph(round(samples), V, n)"
   ]
  },
  {
   "cell_type": "code",
   "execution_count": 15,
   "id": "02e9e0ba",
   "metadata": {},
   "outputs": [],
   "source": [
    "p = 3 \n",
    "s = 3\n",
    "\n",
    "m = p**s\n",
    "N = int(3 * m **3 *(m**3 - 1) * (m ** 2 - 1) / p**7)\n"
   ]
  },
  {
   "cell_type": "code",
   "execution_count": 19,
   "id": "ab58ba12",
   "metadata": {},
   "outputs": [
    {
     "name": "stdout",
     "output_type": "stream",
     "text": [
      "58240\n"
     ]
    }
   ],
   "source": [
    "print(N)"
   ]
  },
  {
   "cell_type": "code",
   "execution_count": 16,
   "id": "f46eab22",
   "metadata": {},
   "outputs": [
    {
     "data": {
      "text/plain": [
       "9650323135994755894524935"
      ]
     },
     "execution_count": 16,
     "metadata": {},
     "output_type": "execute_result"
    }
   ],
   "source": [
    "math.comb(N - 1, 3)"
   ]
  },
  {
   "cell_type": "code",
   "execution_count": 27,
   "id": "06c2e3eb",
   "metadata": {},
   "outputs": [
    {
     "name": "stdout",
     "output_type": "stream",
     "text": [
      "[8.54083005e-28 2.54233216e-27 1.81299629e-21 2.92246986e-14]\n"
     ]
    }
   ],
   "source": [
    "p = 3 \n",
    "s = 3\n",
    "\n",
    "m = p**s\n",
    "N = int(3 * m **3 *(m**3 - 1) * (m ** 2 - 1) / p**7)\n",
    "# print(N)\n",
    "\n",
    "# V = get_coord(N, 3)\n",
    "\n",
    "# prob of intersection size 3 -> triangle\n",
    "p3 = 2 * p **7 /((N - 1)* (N - 2)) \n",
    "p2 = p ** 2 * (p ** 2 - 1) * p ** 5/ math.comb(N - 1, 3)\n",
    "p1 = p ** 7 * (p ** 7 - 2 * p **2 + 1)/ (2 * math.comb(N - 1, 4))\n",
    "p0 = p3 ** 2\n",
    "\n",
    "vals = np.array([p0, p1, p2, p3])\n",
    "\n",
    "print(vals)\n"
   ]
  },
  {
   "cell_type": "code",
   "execution_count": 28,
   "id": "ff74281d",
   "metadata": {},
   "outputs": [],
   "source": [
    "variance = get_mean_var(vals, math.comb(N, 3))"
   ]
  },
  {
   "cell_type": "code",
   "execution_count": 29,
   "id": "9d014ca7",
   "metadata": {},
   "outputs": [
    {
     "name": "stdout",
     "output_type": "stream",
     "text": [
      "[0.00000000e+00 1.68824915e-27 1.81299543e-21 2.92246986e-14]\n"
     ]
    }
   ],
   "source": [
    "print(variance)"
   ]
  },
  {
   "cell_type": "code",
   "execution_count": null,
   "id": "8c80f790",
   "metadata": {},
   "outputs": [],
   "source": [
    "cov = cov_mat(N, 3, variance)"
   ]
  },
  {
   "cell_type": "code",
   "execution_count": null,
   "id": "a168ad2c",
   "metadata": {},
   "outputs": [],
   "source": []
  }
 ],
 "metadata": {
  "kernelspec": {
   "display_name": "Python 3 (ipykernel)",
   "language": "python",
   "name": "python3"
  },
  "language_info": {
   "codemirror_mode": {
    "name": "ipython",
    "version": 3
   },
   "file_extension": ".py",
   "mimetype": "text/x-python",
   "name": "python",
   "nbconvert_exporter": "python",
   "pygments_lexer": "ipython3",
   "version": "3.9.6"
  }
 },
 "nbformat": 4,
 "nbformat_minor": 5
}
