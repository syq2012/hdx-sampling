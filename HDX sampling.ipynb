{
 "cells": [
  {
   "cell_type": "code",
   "execution_count": 14,
   "id": "da5c8c2b",
   "metadata": {},
   "outputs": [],
   "source": [
    "import numpy as np\n",
    "from itertools import combinations\n",
    "from numpy import random"
   ]
  },
  {
   "cell_type": "code",
   "execution_count": 15,
   "id": "c2c20469",
   "metadata": {},
   "outputs": [],
   "source": [
    "# return a list of all size k subset of [n]\n",
    "def get_coord(n, k):\n",
    "    temp = [i +1 for i in range(n)]\n",
    "    return list(combinations(temp, k))\n",
    "\n",
    "# generate cov matrix \n",
    "# n is number of vertices \n",
    "# vals[i] is the covariance of S, S' when intersection is of size i (e.g. we should have vals 0, 1, 2, 3)\n",
    "def cov_mat(n, k, vals):\n",
    "    coordinate = get_coord(n, k)\n",
    "    l_c = len(coordinate)\n",
    "    cov_mat = np.zeros((l_c, l_c))\n",
    "    for i in range(l_c):\n",
    "        cov_mat[i][i] = vals[k]\n",
    "        for j in range(i):\n",
    "            size_inter = len(set(coordinate[i]).intersection(coordinate[j]))\n",
    "            cov_mat[i][j] = vals[size_inter]\n",
    "            cov_mat[j][i] = vals[size_inter]\n",
    "    return cov_mat\n",
    "    \n",
    "def check_psd(M):\n",
    "    try:\n",
    "        np.linalg.cholesky(M)\n",
    "        return True\n",
    "    except np.linalg.LinAlgError:\n",
    "            return False\n",
    "\n",
    "def sample_gaussain(mean, M):\n",
    "    return random.multivariate_normal(mean, M)"
   ]
  },
  {
   "cell_type": "code",
   "execution_count": 12,
   "id": "257a94bb",
   "metadata": {},
   "outputs": [
    {
     "data": {
      "text/plain": [
       "True"
      ]
     },
     "execution_count": 12,
     "metadata": {},
     "output_type": "execute_result"
    }
   ],
   "source": [
    "# set parameter\n",
    "\n",
    "n = 10\n",
    "k = 3\n",
    "p = .5\n",
    "\n",
    "# get list of all size k subsets\n",
    "V = get_coord(n, k)\n",
    "\n",
    "# writedown list of moments vals[i] is E[S,S'] when |S \\cap S'| = i\n",
    "vals = np.array([p**6, p**6, p**5, p**3])\n",
    "means = vals[-1] * np.ones(len(V))\n",
    "# get covariance\n",
    "vals -= vals[-1] ** 2\n",
    "\n",
    "cov = cov_mat(n, k, vals)\n",
    "# check covariance is psd\n",
    "check_psd(cov)"
   ]
  },
  {
   "cell_type": "code",
   "execution_count": 11,
   "id": "978df96d",
   "metadata": {},
   "outputs": [],
   "source": [
    "# test the covariance matrix put right values based on size of intersection\n",
    "def test_cov(M, V, vals, i, j):\n",
    "    print(V[i], V[j])\n",
    "    size_int = len([a for a in V[i] if a in V[j]])\n",
    "    print(M[i][j] == vals[size_int])"
   ]
  },
  {
   "cell_type": "code",
   "execution_count": 9,
   "id": "8bfa9b4c",
   "metadata": {},
   "outputs": [
    {
     "name": "stdout",
     "output_type": "stream",
     "text": [
      "(1, 2, 3) (1, 2, 4)\n",
      "True\n"
     ]
    }
   ],
   "source": [
    "test_cov(cov, V, vals, 0, 1)"
   ]
  },
  {
   "cell_type": "code",
   "execution_count": 18,
   "id": "d3887f1d",
   "metadata": {},
   "outputs": [],
   "source": [
    "samples = sample_gaussain(means, cov)"
   ]
  }
 ],
 "metadata": {
  "kernelspec": {
   "display_name": "Python 3 (ipykernel)",
   "language": "python",
   "name": "python3"
  },
  "language_info": {
   "codemirror_mode": {
    "name": "ipython",
    "version": 3
   },
   "file_extension": ".py",
   "mimetype": "text/x-python",
   "name": "python",
   "nbconvert_exporter": "python",
   "pygments_lexer": "ipython3",
   "version": "3.12.0"
  }
 },
 "nbformat": 4,
 "nbformat_minor": 5
}
