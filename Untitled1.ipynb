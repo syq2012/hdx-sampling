{
 "cells": [
  {
   "cell_type": "code",
   "execution_count": 1,
   "id": "a05cbadf",
   "metadata": {},
   "outputs": [],
   "source": [
    "import numpy as np\n",
    "from itertools import combinations\n",
    "from numpy import random\n",
    "import math\n",
    "import matplotlib.pyplot as plt"
   ]
  },
  {
   "cell_type": "code",
   "execution_count": 2,
   "id": "0f8bb7ef",
   "metadata": {},
   "outputs": [],
   "source": [
    "def get_coord(N, k):\n",
    "    temp = [i +1 for i in range(N)]\n",
    "    return list(combinations(temp, k))\n",
    "\n",
    "# generate cov matrix \n",
    "# n is number of vertices \n",
    "# vals[i] is the covariance of S, S' when intersection is of size i (e.g. we should have vals 0, 1, 2, 3)\n",
    "def cov_mat(V, variance):\n",
    "    m = len(V)\n",
    "    res = np.zeros((m, m))\n",
    "    for i in range(m):\n",
    "        res[i][i] = variance[-1]\n",
    "        for j in range(i):\n",
    "            int_size = len([p in V[j] for p in V[i]])\n",
    "            res[i][j] = variance[int_size]\n",
    "            res[j][i] = variance[int_size]\n",
    "    return res\n",
    "\n",
    "def check_psd(M):\n",
    "    try:\n",
    "        np.linalg.cholesky(M)\n",
    "        return True\n",
    "    except np.linalg.LinAlgError:\n",
    "            return False\n",
    "\n",
    "def sample_gaussain(mean, M):\n",
    "    return random.multivariate_normal(mean, M)\n",
    "\n",
    "# for size 3 subsets\n",
    "def shift_3(moments):\n",
    "    mean = 2 * moments[-1] - 1\n",
    "    res = []\n",
    "    for i in range(3):\n",
    "        res.append(4 * moments[i] - 1 - 2 * mean - mean ** 2)\n",
    "    res.append(1 - mean ** 2)\n",
    "    return res\n",
    "\n",
    "def vertex_loc(V):\n",
    "    res = {}\n",
    "    for (i, v) in enumerate(V):\n",
    "        res[v] = i\n",
    "    return res\n",
    "\n",
    "def link_dist(samples, V_loc, i):\n",
    "    res = []\n",
    "    order = []\n",
    "    for v in V_loc.keys():\n",
    "        if i in v:\n",
    "            res.append(samples[V_loc[v]])\n",
    "            order.append(v)\n",
    "    return res, order\n",
    "    "
   ]
  },
  {
   "cell_type": "code",
   "execution_count": 3,
   "id": "87472a33",
   "metadata": {},
   "outputs": [],
   "source": [
    "# set subset size\n",
    "k = 3 \n"
   ]
  },
  {
   "cell_type": "code",
   "execution_count": 29,
   "id": "a7469cf7",
   "metadata": {},
   "outputs": [
    {
     "name": "stdout",
     "output_type": "stream",
     "text": [
      "[1.66309415e-12 4.95083975e-12 5.31460099e-10 1.28961007e-06]\n",
      "[0.0, 1.315103581589483e-11, 2.1191880472670732e-09, 5.158433647456384e-06]\n"
     ]
    }
   ],
   "source": [
    "p = 3\n",
    "s = 2\n",
    "\n",
    "m = p**s\n",
    "N = int(3 * m **3 *(m**3 - 1) * (m ** 2 - 1) / p**7)\n",
    "m = p**s\n",
    "N = int(3 * m **3 *(m**3 - 1) * (m ** 2 - 1) / p**7)\n",
    "# print(N)\n",
    "\n",
    "# V = get_coord(N, 3)\n",
    "\n",
    "# prob of intersection size 3 -> triangle\n",
    "p3 = 2 * p **7 /((N - 1)* (N - 2)) \n",
    "p2 = p ** 2 * (p ** 2 - 1) * p ** 5/ math.comb(N - 1, 3)\n",
    "p1 = p ** 7 * (p ** 7 - 2 * p **2 + 1)/ (2 * math.comb(N - 1, 4))\n",
    "p0 = p3 ** 2\n",
    "\n",
    "vals = np.array([p0, p1, p2, p3])\n",
    "\n",
    "print(vals)\n",
    "print(shift_3(vals))"
   ]
  },
  {
   "cell_type": "code",
   "execution_count": 31,
   "id": "dc4ee806",
   "metadata": {},
   "outputs": [
    {
     "data": {
      "text/plain": [
       "0.07510689076396071"
      ]
     },
     "execution_count": 31,
     "metadata": {},
     "output_type": "execute_result"
    }
   ],
   "source": [
    "# expected number of triangles \n",
    "N * vals[-1]"
   ]
  },
  {
   "cell_type": "code",
   "execution_count": 13,
   "id": "cf019014",
   "metadata": {},
   "outputs": [
    {
     "name": "stdout",
     "output_type": "stream",
     "text": [
      "moments [5.72813284e-06 3.69448841e-05 5.64198172e-04 2.39335180e-03]\n",
      "num vertices 38\n",
      "num total triangle 8436\n",
      "variance of 1, -1 variable [0.0, 0.00012486700507385873, 0.0022338801579484535, 0.009550494670851117]\n"
     ]
    }
   ],
   "source": [
    "# V = get_coord(N, k)\n",
    "p = 1.2\n",
    "s = 3.6\n",
    "\n",
    "# Take away prime, test higher order terms \n",
    "N = int(p ** (8 * s - 7) - p**(6 * s - 7))\n",
    "p3 = 2 * p ** 3 / N ** 2\n",
    "p2 = 6 * p ** 9 / N ** 3\n",
    "p1 = (6 * p ** 14)/ N ** 4\n",
    "p0 = p3 ** 2\n",
    "\n",
    "vals = np.array([p0, p1, p2, p3])\n",
    "variance = shift_3(vals)\n",
    "print(\"moments\", vals)\n",
    "print(\"num vertices\", N)\n",
    "print(\"num total triangle\", math.comb(N, 3))\n",
    "print(\"variance of 1, -1 variable\", variance)"
   ]
  },
  {
   "cell_type": "code",
   "execution_count": 14,
   "id": "0ea9d05b",
   "metadata": {},
   "outputs": [],
   "source": [
    "V = get_coord(N, k)\n",
    "cov = cov_mat(V, variance)\n"
   ]
  },
  {
   "cell_type": "code",
   "execution_count": 28,
   "id": "91b3ed62",
   "metadata": {},
   "outputs": [
    {
     "name": "stdout",
     "output_type": "stream",
     "text": [
      "mean -0.995213296398892\n"
     ]
    }
   ],
   "source": [
    "print('mean', 2 * vals[-1] - 1)"
   ]
  },
  {
   "cell_type": "code",
   "execution_count": 15,
   "id": "7ebfb887",
   "metadata": {},
   "outputs": [],
   "source": [
    "mean = [2 * vals[-1] - 1] * math.comb(N, 3)"
   ]
  },
  {
   "cell_type": "code",
   "execution_count": 16,
   "id": "71a3dc4a",
   "metadata": {},
   "outputs": [],
   "source": [
    "samples = sample_gaussain(mean, cov)"
   ]
  },
  {
   "cell_type": "code",
   "execution_count": 65,
   "id": "a4c0b8e4",
   "metadata": {},
   "outputs": [],
   "source": [
    "np.savetxt(\"cov_p_1.2_s_3.6_1_-1.csv\", cov, delimiter=\",\")"
   ]
  },
  {
   "cell_type": "code",
   "execution_count": 66,
   "id": "06d4cd90",
   "metadata": {},
   "outputs": [],
   "source": [
    "np.savetxt(\"sample_p_1.2_s_3.6_1_-1.csv\", samples, delimiter=\",\")"
   ]
  },
  {
   "cell_type": "code",
   "execution_count": 32,
   "id": "04784c36",
   "metadata": {},
   "outputs": [
    {
     "name": "stdout",
     "output_type": "stream",
     "text": [
      "-1.0920933934754424 -9213.046092361561\n"
     ]
    }
   ],
   "source": [
    "print(max(samples), min(samples) * 8436)"
   ]
  },
  {
   "cell_type": "code",
   "execution_count": 24,
   "id": "8f5e68aa",
   "metadata": {},
   "outputs": [
    {
     "data": {
      "text/plain": [
       "(array([1.000e+00, 0.000e+00, 0.000e+00, 0.000e+00, 0.000e+00, 0.000e+00,\n",
       "        0.000e+00, 0.000e+00, 0.000e+00, 0.000e+00, 0.000e+00, 0.000e+00,\n",
       "        0.000e+00, 0.000e+00, 0.000e+00, 0.000e+00, 0.000e+00, 0.000e+00,\n",
       "        0.000e+00, 0.000e+00, 0.000e+00, 0.000e+00, 0.000e+00, 0.000e+00,\n",
       "        0.000e+00, 0.000e+00, 0.000e+00, 0.000e+00, 0.000e+00, 0.000e+00,\n",
       "        0.000e+00, 1.000e+00, 1.000e+00, 0.000e+00, 0.000e+00, 0.000e+00,\n",
       "        0.000e+00, 0.000e+00, 0.000e+00, 1.000e+00, 0.000e+00, 2.000e+00,\n",
       "        0.000e+00, 1.000e+00, 0.000e+00, 0.000e+00, 2.000e+00, 2.000e+00,\n",
       "        3.000e+00, 0.000e+00, 1.000e+00, 0.000e+00, 1.600e+01, 9.890e+02,\n",
       "        5.449e+03, 1.929e+03, 2.300e+01, 0.000e+00, 2.000e+00, 1.000e+00,\n",
       "        1.000e+00, 1.000e+00, 0.000e+00, 0.000e+00, 1.000e+00, 0.000e+00,\n",
       "        0.000e+00, 1.000e+00, 0.000e+00, 0.000e+00, 0.000e+00, 3.000e+00,\n",
       "        2.000e+00, 0.000e+00, 0.000e+00, 0.000e+00, 0.000e+00, 0.000e+00,\n",
       "        0.000e+00, 0.000e+00, 0.000e+00, 0.000e+00, 0.000e+00, 0.000e+00,\n",
       "        0.000e+00, 1.000e+00, 0.000e+00, 0.000e+00, 0.000e+00, 0.000e+00,\n",
       "        0.000e+00, 1.000e+00, 0.000e+00, 0.000e+00, 0.000e+00, 0.000e+00,\n",
       "        0.000e+00, 0.000e+00, 0.000e+00, 1.000e+00]),\n",
       " array([-0.04605536, -0.04605528, -0.04605519, -0.0460551 , -0.04605502,\n",
       "        -0.04605493, -0.04605484, -0.04605476, -0.04605467, -0.04605458,\n",
       "        -0.0460545 , -0.04605441, -0.04605432, -0.04605424, -0.04605415,\n",
       "        -0.04605406, -0.04605398, -0.04605389, -0.0460538 , -0.04605372,\n",
       "        -0.04605363, -0.04605354, -0.04605346, -0.04605337, -0.04605328,\n",
       "        -0.0460532 , -0.04605311, -0.04605302, -0.04605294, -0.04605285,\n",
       "        -0.04605276, -0.04605268, -0.04605259, -0.0460525 , -0.04605242,\n",
       "        -0.04605233, -0.04605224, -0.04605216, -0.04605207, -0.04605198,\n",
       "        -0.0460519 , -0.04605181, -0.04605172, -0.04605164, -0.04605155,\n",
       "        -0.04605146, -0.04605138, -0.04605129, -0.0460512 , -0.04605112,\n",
       "        -0.04605103, -0.04605094, -0.04605086, -0.04605077, -0.04605068,\n",
       "        -0.0460506 , -0.04605051, -0.04605042, -0.04605034, -0.04605025,\n",
       "        -0.04605016, -0.04605008, -0.04604999, -0.0460499 , -0.04604982,\n",
       "        -0.04604973, -0.04604964, -0.04604956, -0.04604947, -0.04604938,\n",
       "        -0.0460493 , -0.04604921, -0.04604912, -0.04604904, -0.04604895,\n",
       "        -0.04604886, -0.04604878, -0.04604869, -0.0460486 , -0.04604852,\n",
       "        -0.04604843, -0.04604834, -0.04604826, -0.04604817, -0.04604808,\n",
       "        -0.046048  , -0.04604791, -0.04604782, -0.04604774, -0.04604765,\n",
       "        -0.04604756, -0.04604748, -0.04604739, -0.0460473 , -0.04604722,\n",
       "        -0.04604713, -0.04604704, -0.04604696, -0.04604687, -0.04604678,\n",
       "        -0.0460467 ]),\n",
       " <BarContainer object of 100 artists>)"
      ]
     },
     "execution_count": 24,
     "metadata": {},
     "output_type": "execute_result"
    },
    {
     "data": {
      "image/png": "[encoded data removed]",
      "text/plain": [
       "<Figure size 640x480 with 1 Axes>"
      ]
     },
     "metadata": {},
     "output_type": "display_data"
    }
   ],
   "source": [
    "plt.hist((samples + 1) / 2, bins = 100)"
   ]
  },
  {
   "cell_type": "code",
   "execution_count": 90,
   "id": "fef7e6f7",
   "metadata": {
    "collapsed": true
   },
   "outputs": [
    {
     "name": "stdout",
     "output_type": "stream",
     "text": [
      "1 [[ 1  2 14]\n",
      " [ 1  2 15]\n",
      " [ 1  2 10]\n",
      " [ 1  2 13]\n",
      " [ 1  2 30]\n",
      " [ 1  2 25]\n",
      " [ 1  2 26]\n",
      " [ 1  2  4]\n",
      " [ 1  2 19]\n",
      " [ 1  2 31]]\n",
      "2 [[ 1  2 14]\n",
      " [ 1  2 15]\n",
      " [ 1  2 10]\n",
      " [ 1  2 13]\n",
      " [ 1  2 30]\n",
      " [ 1  2 25]\n",
      " [ 1  2 26]\n",
      " [ 1  2  4]\n",
      " [ 1  2 19]\n",
      " [ 1  2 31]]\n",
      "3 [[ 2  3 27]\n",
      " [ 3 28 31]\n",
      " [ 3  7 14]\n",
      " [ 1  3  5]\n",
      " [ 3 25 37]\n",
      " [ 3 18 32]\n",
      " [ 3 13 33]\n",
      " [ 3 13 22]\n",
      " [ 3 17 25]\n",
      " [ 3 18 25]]\n",
      "4 [[ 1  4 32]\n",
      " [ 3  4 23]\n",
      " [ 4  5 28]\n",
      " [ 2  4 24]\n",
      " [ 4 15 38]\n",
      " [ 4 19 30]\n",
      " [ 4 20 24]\n",
      " [ 4 19 25]\n",
      " [ 4 19 20]\n",
      " [ 1  2  4]]\n",
      "5 [[ 5 14 23]\n",
      " [ 5 31 34]\n",
      " [ 4  5 28]\n",
      " [ 2  5 38]\n",
      " [ 5  8 28]\n",
      " [ 1  3  5]\n",
      " [ 2  5 17]\n",
      " [ 5 20 35]\n",
      " [ 5 17 22]\n",
      " [ 5 10 37]]\n",
      "6 [[ 6 10 33]\n",
      " [ 6 30 35]\n",
      " [ 6 30 32]\n",
      " [ 6  9 22]\n",
      " [ 1  6 26]\n",
      " [ 6 11 22]\n",
      " [ 2  6 14]\n",
      " [ 6 28 38]\n",
      " [ 6 10 31]\n",
      " [ 6 22 28]]\n",
      "7 [[ 3  7 14]\n",
      " [ 7 10 13]\n",
      " [ 7 10 14]\n",
      " [ 7 15 20]\n",
      " [ 7  8 25]\n",
      " [ 7 34 36]\n",
      " [ 7 24 30]\n",
      " [ 7 17 21]\n",
      " [ 7 11 24]\n",
      " [ 1  2  7]]\n",
      "8 [[ 8 14 36]\n",
      " [ 8 13 27]\n",
      " [ 8 14 18]\n",
      " [ 8 23 37]\n",
      " [ 5  8 28]\n",
      " [ 8  9 16]\n",
      " [ 7  8 25]\n",
      " [ 8 21 28]\n",
      " [ 8 10 13]\n",
      " [ 8 11 13]]\n",
      "9 [[ 9 19 33]\n",
      " [ 8  9 35]\n",
      " [ 9 23 35]\n",
      " [ 9 26 34]\n",
      " [ 1  9 14]\n",
      " [ 9 11 28]\n",
      " [ 6  9 22]\n",
      " [ 8  9 16]\n",
      " [ 9 19 20]\n",
      " [ 9 19 26]]\n",
      "10 [[10 36 37]\n",
      " [ 7 10 14]\n",
      " [10 19 36]\n",
      " [ 2 10 31]\n",
      " [ 8 10 13]\n",
      " [ 5 10 37]\n",
      " [10 29 30]\n",
      " [ 6 10 31]\n",
      " [10 13 24]\n",
      " [ 1  2 10]]\n"
     ]
    },
    {
     "data": {
      "image/png": "[encoded data removed]",
      "text/plain": [
       "<Figure size 640x480 with 1 Axes>"
      ]
     },
     "metadata": {},
     "output_type": "display_data"
    }
   ],
   "source": [
    "V_loc = vertex_loc(V)\n",
    "links_v = np.random.randint(0, N, 10)\n",
    "for i in [k for k in range(10)]:\n",
    "    val, order = link_dist(samples, V_loc, i  +1)\n",
    "    plt.plot(val, label = str(i))\n",
    "    print(i + 1, np.array(order)[np.argsort(val)[-10:]])\n",
    "leg = plt.legend(loc='upper right')\n",
    "#     plt.show()"
   ]
  },
  {
   "cell_type": "code",
   "execution_count": 133,
   "id": "f7ca55dc",
   "metadata": {},
   "outputs": [],
   "source": [
    "# small experiments \n",
    "p = 1/200\n",
    "cov_test = np.array([[1, p], [p, 1]])\n",
    "cov_std = np.identity(2)\n",
    "mean = np.array([0] * 2)\n"
   ]
  },
  {
   "cell_type": "code",
   "execution_count": 166,
   "id": "53b9ef11",
   "metadata": {},
   "outputs": [],
   "source": [
    "g = random.multivariate_normal(mean, cov_test, 1000)\n",
    "thresh = random.multivariate_normal(mean, cov_std)\n",
    "\n",
    "g_decomp = random.multivariate_normal(mean, cov_test, 1000)\n",
    "g1 = g_decomp * np.array([1, 0])\n",
    "g2 = g_decomp * np.array([p, np.sqrt(1 - p * p)])"
   ]
  },
  {
   "cell_type": "code",
   "execution_count": 167,
   "id": "3a8d16f1",
   "metadata": {},
   "outputs": [
    {
     "data": {
      "text/plain": [
       "0.234"
      ]
     },
     "execution_count": 167,
     "metadata": {},
     "output_type": "execute_result"
    }
   ],
   "source": [
    "sum((g[:, 0] > 0) * (g[:, 1] < 0))/1000"
   ]
  },
  {
   "cell_type": "code",
   "execution_count": 168,
   "id": "f8abec00",
   "metadata": {},
   "outputs": [],
   "source": [
    "proj1 = g1.dot(thresh)\n",
    "proj2 = g2.dot(thresh)"
   ]
  },
  {
   "cell_type": "code",
   "execution_count": 169,
   "id": "d7455e05",
   "metadata": {},
   "outputs": [
    {
     "data": {
      "text/plain": [
       "0.248"
      ]
     },
     "execution_count": 169,
     "metadata": {},
     "output_type": "execute_result"
    }
   ],
   "source": [
    "sum((proj1 > 0) * (proj2 < 0))/1000"
   ]
  },
  {
   "cell_type": "code",
   "execution_count": 157,
   "id": "9772cd28",
   "metadata": {},
   "outputs": [
    {
     "data": {
      "text/plain": [
       "<matplotlib.collections.PathCollection at 0x1303e1d60>"
      ]
     },
     "execution_count": 157,
     "metadata": {},
     "output_type": "execute_result"
    },
    {
     "data": {
      "image/png": "[encoded data removed]",
      "text/plain": [
       "<Figure size 640x480 with 1 Axes>"
      ]
     },
     "metadata": {},
     "output_type": "display_data"
    }
   ],
   "source": [
    "plt.scatter(g[:, 0], g[:, 1])\n"
   ]
  },
  {
   "cell_type": "code",
   "execution_count": null,
   "id": "5d3a1e89",
   "metadata": {},
   "outputs": [],
   "source": []
  }
 ],
 "metadata": {
  "kernelspec": {
   "display_name": "Python 3 (ipykernel)",
   "language": "python",
   "name": "python3"
  },
  "language_info": {
   "codemirror_mode": {
    "name": "ipython",
    "version": 3
   },
   "file_extension": ".py",
   "mimetype": "text/x-python",
   "name": "python",
   "nbconvert_exporter": "python",
   "pygments_lexer": "ipython3",
   "version": "3.12.0"
  }
 },
 "nbformat": 4,
 "nbformat_minor": 5
}
