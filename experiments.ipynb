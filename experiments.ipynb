{
 "cells": [
  {
   "cell_type": "code",
   "execution_count": 1,
   "id": "d118e76b",
   "metadata": {},
   "outputs": [],
   "source": [
    "import numpy as np\n",
    "from itertools import combinations\n",
    "from numpy import random\n",
    "import math\n",
    "import matplotlib.pyplot as plt\n",
    "from scipy.stats import norm\n",
    "import sample_hdx as hdx\n",
    "\n",
    "import importlib"
   ]
  },
  {
   "cell_type": "code",
   "execution_count": 17,
   "id": "37a0ee93",
   "metadata": {},
   "outputs": [
    {
     "data": {
      "text/plain": [
       "<module 'sample_hdx' from '/Users/syq2012f/Documents/code/sample_hdx.py'>"
      ]
     },
     "execution_count": 17,
     "metadata": {},
     "output_type": "execute_result"
    }
   ],
   "source": [
    "importlib.reload(hdx)"
   ]
  },
  {
   "cell_type": "code",
   "execution_count": 8,
   "id": "fe04307f",
   "metadata": {},
   "outputs": [
    {
     "name": "stdout",
     "output_type": "stream",
     "text": [
      "num triangle  117480\n"
     ]
    }
   ],
   "source": [
    "# check what happens if push correlation to max\n",
    "\n",
    "N = 90 \n",
    "l = math.comb(N, 3)\n",
    "\n",
    "V_test = hdx.get_coord(N, 3)\n",
    "print('num triangle ',l)\n",
    "\n",
    "# define values of covariance matrix here\n",
    "# vals[i] is value of entry A, B s.t. |A \\cap B| = i\n",
    "vals = [0, 0, 1/3, 1]\n",
    "# sample standard gaussian\n",
    "gauss = np.random.standard_normal(l)"
   ]
  },
  {
   "cell_type": "code",
   "execution_count": null,
   "id": "1892c163",
   "metadata": {},
   "outputs": [
    {
     "name": "stdout",
     "output_type": "stream",
     "text": [
      "cur col  0\n",
      "cur col  1000\n",
      "cur col  2000\n",
      "cur col  3000\n",
      "cur col  4000\n",
      "cur col  5000\n",
      "cur col  6000\n",
      "cur col  7000\n",
      "cur col  8000\n",
      "cur col  9000\n",
      "cur col  10000\n",
      "cur col  11000\n",
      "cur col  12000\n",
      "cur col  13000\n",
      "cur col  14000\n",
      "cur col  15000\n",
      "cur col  16000\n",
      "cur col  17000\n",
      "cur col  18000\n",
      "cur col  19000\n",
      "cur col  20000\n",
      "cur col  21000\n",
      "cur col  22000\n",
      "cur col  23000\n",
      "cur col  24000\n",
      "cur col  25000\n",
      "cur col  26000\n",
      "cur col  27000\n",
      "cur col  28000\n",
      "cur col  29000\n",
      "cur col  30000\n",
      "cur col  31000\n",
      "cur col  32000\n",
      "cur col  33000\n",
      "cur col  34000\n",
      "cur col  35000\n",
      "cur col  36000\n",
      "cur col  37000\n",
      "cur col  38000\n",
      "cur col  39000\n",
      "cur col  40000\n",
      "cur col  41000\n",
      "cur col  42000\n",
      "cur col  43000\n",
      "cur col  44000\n",
      "cur col  45000\n",
      "cur col  46000\n",
      "cur col  47000\n",
      "cur col  48000\n",
      "cur col  49000\n",
      "cur col  50000\n",
      "cur col  51000\n",
      "cur col  52000\n",
      "cur col  53000\n",
      "cur col  54000\n",
      "cur col  55000\n",
      "cur col  56000\n",
      "cur col  57000\n"
     ]
    }
   ],
   "source": [
    "sample = hdx.sample_gaussian_from_idemp(N, vals, gauss)"
   ]
  },
  {
   "cell_type": "code",
   "execution_count": 6,
   "id": "f703e4db",
   "metadata": {},
   "outputs": [
    {
     "name": "stdout",
     "output_type": "stream",
     "text": [
      "[2.51199788e-14 9.65696371e-13 8.29910718e-10 1.58492835e-07]\n",
      "moments [2.51199788e-14 9.65696371e-13 8.29910718e-10 1.58492835e-07]\n",
      "num vertices 6526\n",
      "num total triangle 46300991100\n",
      "variance of 1, -1 variable [0.0, 3.7623237858497305e-12, 3.3195424187226763e-09, 6.339712396163932e-07]\n"
     ]
    }
   ],
   "source": [
    "# V = get_coord(N, k)\n",
    "p = 1.5\n",
    "s = 3.6\n",
    "\n",
    "# Take away prime, test higher order terms \n",
    "N = int(p ** (8 * s - 7) - p**(6 * s - 7))\n",
    "p3 = 2 * p ** 3 / N ** 2\n",
    "p2 = 6 * p ** 9 / N ** 3\n",
    "p1 = (6 * p ** 14)/ N ** 4\n",
    "p0 = p3 ** 2\n",
    "\n",
    "vals = np.array([p0, p1, p2, p3])\n",
    "print(vals)\n",
    "# vals = get_moments(p, s)\n",
    "variance = hdx.shift_3(vals)\n",
    "print(\"moments\", vals)\n",
    "print(\"num vertices\", N)\n",
    "print(\"num total triangle\", math.comb(N, 3))\n",
    "print(\"variance of 1, -1 variable\", variance)"
   ]
  }
 ],
 "metadata": {
  "kernelspec": {
   "display_name": "Python 3 (ipykernel)",
   "language": "python",
   "name": "python3"
  },
  "language_info": {
   "codemirror_mode": {
    "name": "ipython",
    "version": 3
   },
   "file_extension": ".py",
   "mimetype": "text/x-python",
   "name": "python",
   "nbconvert_exporter": "python",
   "pygments_lexer": "ipython3",
   "version": "3.12.0"
  }
 },
 "nbformat": 4,
 "nbformat_minor": 5
}
